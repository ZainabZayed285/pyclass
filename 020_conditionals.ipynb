{
 "cells": [
  {
   "cell_type": "markdown",
   "metadata": {},
   "source": [
    "# 020_التفرعات الشرطية\n"
   ]
  },
  {
   "cell_type": "markdown",
   "metadata": {},
   "source": [
    "# الكتل الشرطية\n",
    "## Conditional Blocks "
   ]
  },
  {
   "cell_type": "code",
   "execution_count": null,
   "metadata": {},
   "outputs": [],
   "source": [
    "# if..else\n",
    "v1 = 5\n",
    "if v1 == 5:\n",
    "    print (v1)\n",
    "else:\n",
    "    print (\"v1 ليست 5\")"
   ]
  },
  {
   "cell_type": "code",
   "execution_count": null,
   "metadata": {},
   "outputs": [],
   "source": [
    "# if..elif..else\n",
    "s1 = \"Science\"\n",
    "s2 = \"loves\"\n",
    "s3 = \"Python\"\n",
    "if s1 == \"Python\":\n",
    "    print (\"s1 هي Python\")\n",
    "elif s2 == \"Science\":\n",
    "    print (\"s2 هي Science\")\n",
    "elif s1 == \"loves\":\n",
    "    print (\"s1 هي loves\")\n",
    "else:\n",
    "    print (\"Science loves Python!\")"
   ]
  },
  {
   "cell_type": "code",
   "execution_count": null,
   "metadata": {},
   "outputs": [],
   "source": [
    "# جملة مختصرة\n",
    "v1 = 5\n",
    "x = 10 if v1 == 5 else 13\n",
    "print (x)"
   ]
  },
  {
   "cell_type": "code",
   "execution_count": null,
   "metadata": {},
   "outputs": [],
   "source": [
    "# لنرى الشروط المتاحة\n",
    "v1 = \"Science\"\n",
    "v2 = \"Python\"\n",
    "v3 = 45\n",
    "v4 = 67\n",
    "v5 = 45\n",
    "\n",
    "# اختبار للمساواة\n",
    "print (v1 == v2)\n",
    "\n",
    "# اختبار أكبر من وأكبر من أو يساوي\n",
    "print (v4 > v3)\n",
    "print (v5 >= v2)\n",
    "\n",
    "# اختبار أصغر من وأصغر من أو يساوي\n",
    "print (v4 < v3)\n",
    "print (v5 <= v2)\n",
    "\n",
    "# عدم المساواة\n",
    "print (v1 != v2)"
   ]
  },
  {
   "cell_type": "code",
   "execution_count": null,
   "metadata": {},
   "outputs": [],
   "source": [
    "# ملاحظة:\n",
    "v1 = 45\n",
    "v2 = \"45\"\n",
    "print (v1 == v2) # False\n",
    "print (str(v1) == v2) # True"
   ]
  },
  {
   "cell_type": "code",
   "execution_count": null,
   "metadata": {},
   "outputs": [],
   "source": [
    "# تجاهل حالة الأحرف عند مقارنة سلسلتين نصيتين\n",
    "s1 = \"Science\"\n",
    "s2 = \"science\"\n",
    "\n",
    "print (s1 == s2) # False\n",
    "print (s1.lower() == s2.lower()) # True\n",
    "# أو\n",
    "print (s1.upper() == s2.upper()) # True"
   ]
  },
  {
   "cell_type": "code",
   "execution_count": null,
   "metadata": {},
   "outputs": [],
   "source": [
    "# التحقق من شروط متعددة باستخدام 'and' و 'or'\n",
    "v1 = \"Science\"\n",
    "v2 = \"Python\"\n",
    "\n",
    "# 'and' -> تُقيم كـ True عندما يكون الشرطان صحيحين\n",
    "print (v1 == \"Science\" and v2 == \"Python\")\n",
    "# 'or' -> تُقيم كـ True عندما يكون أي من الشرطين صحيحًا\n",
    "print (v1 == \"Python\" or v2 == \"Python\")"
   ]
  },
  {
   "cell_type": "markdown",
   "metadata": {},
   "source": [
    "##### ملاحظة: \n",
    "عند إجراء المقارنات باستخدام السلاسل النصية مع '>' أو '<'\n",
    "تتم المقارنة بين السلاسل نصيًا حسب الترتيب الأبجدي."
   ]
  },
  {
   "cell_type": "code",
   "execution_count": null,
   "metadata": {},
   "outputs": [],
   "source": [
    "s1 = \"Python\"\n",
    "s2 = \"Science\"\n",
    "\n",
    "print(s1 < s2)  # True -> لأن 'Python' تأتي قبل 'Science' أبجديًا"
   ]
  },
  {
   "cell_type": "code",
   "execution_count": null,
   "metadata": {},
   "outputs": [],
   "source": [
    "# التحقق مما إذا كانت القيمة موجودة في القائمة باستخدام 'in'\n",
    "l1 = [23, 45, 67, \"Science\", \"Python\", 'A']\n",
    "\n",
    "print (23 in l1)\n",
    "print ('A' in l1)\n",
    "print (\"Python\" in l1)\n",
    "print (32 in l1)"
   ]
  },
  {
   "cell_type": "code",
   "execution_count": null,
   "metadata": {},
   "outputs": [],
   "source": [
    "# وضع كل شيء معًا\n",
    "l1 = [23, 1, 'A', \"Science\", 9.34]\n",
    "\n",
    "# هذه النتيجة True، لذا لن يتم التحقق من الشروط الأخرى\n",
    "if 23 in l1 and 'B' not in l1: # ملاحظة: استخدام 'not'\n",
    "    print (\"1\")\n",
    "elif 23 >= l1[0]: # True\n",
    "    print (\"2\")\n",
    "elif 2.45 < l1[-1]: # True\n",
    "    print (\"3\")"
   ]
  },
  {
   "cell_type": "code",
   "execution_count": null,
   "metadata": {},
   "outputs": [],
   "source": [
    "# التحقق مما إذا كانت القائمة فارغة\n",
    "l1 = []\n",
    "l2 = [\"Science\"]\n",
    "\n",
    "if l1:\n",
    "    print (1)\n",
    "elif l2:\n",
    "    print (2)"
   ]
  }
 ],
 "metadata": {
  "kernelspec": {
   "display_name": "Python 3",
   "language": "python",
   "name": "python3"
  },
  "language_info": {
   "codemirror_mode": {
    "name": "ipython",
    "version": 3
   },
   "file_extension": ".py",
   "mimetype": "text/x-python",
   "name": "python",
   "nbconvert_exporter": "python",
   "pygments_lexer": "ipython3",
   "version": "3.6.3"
  }
 },
 "nbformat": 4,
 "nbformat_minor": 2
}
