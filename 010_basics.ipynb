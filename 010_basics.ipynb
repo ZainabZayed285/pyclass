{
 "cells": [
  {
   "cell_type": "markdown",
   "metadata": {},
   "source": [
    "# الأساسيات 010\n"
   ]
  },
  {
   "cell_type": "code",
   "execution_count": null,
   "metadata": {
    "scrolled": true
   },
   "outputs": [],
   "source": [
    "# التعليقات\n",
    "# هذا شرح بيثون وتعليق سطر واحد\n",
    "''' هذا تعليق متعدد الأسطر\n",
    "    رائع جدا!!\n",
    "    دعني أقدمك لجينيفر!'''"
   ]
  },
  {
   "cell_type": "code",
   "execution_count": null,
   "metadata": {},
   "outputs": [],
   "source": [
    "# الاستيرادات البسيطة\n",
    "import math\n",
    "import random"
   ]
  },
  {
   "cell_type": "code",
   "execution_count": null,
   "metadata": {},
   "outputs": [],
   "source": [
    "# استيراد دوال معينة من الوحدات\n",
    "# استيراد دالة المضروب فقط من math\n",
    "from math import factorial\n",
    "\n",
    "\n",
    "# استيراد جميع الدوال من math\n",
    "from math import *\n"
   ]
  },
  {
   "cell_type": "code",
   "execution_count": null,
   "metadata": {},
   "outputs": [],
   "source": [
    "# تعيين أسماء مستعارة\n",
    "# اسم الوحدة يُعطى اسم مستعار\n",
    "import math as m\n",
    "\n",
    "# اسم الدالة يُعطى اسم مستعار\n",
    "from math import factorial as fact"
   ]
  },
  {
   "cell_type": "code",
   "execution_count": null,
   "metadata": {},
   "outputs": [],
   "source": [
    "# استدعاء الدوال المستوردة\n",
    "# إذا قمت باستيراد الوحدة عليك استدعاء الدوال من الوحدة\n",
    "import math\n",
    "print (\"مضروب 100 =\",math.factorial(100))\n",
    "# n! = n * (n -1) * (n-2).....1"
   ]
  },
  {
   "cell_type": "code",
   "execution_count": null,
   "metadata": {},
   "outputs": [],
   "source": [
    "# إذا قمت باستيراد الدوال يمكنك استدعاء الدالة كما لو كانت في البرنامج الخاص بك\n",
    "from random import randrange as rg\n",
    "import random\n",
    "print(rg(23, 250))\n",
    "print (random.randrange(23, 250))"
   ]
  },
  {
   "cell_type": "code",
   "execution_count": null,
   "metadata": {},
   "outputs": [],
   "source": [
    "# المتغيرات\n",
    "msg = \"بايثون!\"  # سلسلة نصية\n",
    "v2 = 'بايثون!'   # أيضا سلسلة نصية تعمل بنفس الطريقة\n",
    "v1 = 2           # أعداد\n",
    "v3 = 3.564       # الأعداد العشرية\n",
    "v4 = True        # منطقية (صحيح / خطأ)\n",
    "v5 = msg == \"بيثون!\"\n"
   ]
  },
  {
   "cell_type": "code",
   "execution_count": null,
   "metadata": {},
   "outputs": [],
   "source": [
    "# استدعاء الدوال المستوردة\n",
    "# إذا قمت باستيراد الوحدة عليك استدعاء الدوال من الوحدة\n",
    "import math\n",
    "n = 20\n",
    "print (\"مضروب \",n,\" =\", math.factorial(n)) # n! = n * (n -1) * (n-2).....1\n"
   ]
  },
  {
   "cell_type": "code",
   "execution_count": null,
   "metadata": {
    "scrolled": true
   },
   "outputs": [],
   "source": [
    "# print() \n",
    "# تلقائيا يضيف سطر جديد\n",
    "print (msg)\n",
    "print (v2)\n",
    "print (v1)\n",
    "print (v3)\n",
    "print (v4)\n",
    "print (v5)\n",
    "print (\"مرحبا بايثون!\")"
   ]
  },
  {
   "cell_type": "code",
   "execution_count": null,
   "metadata": {},
   "outputs": [],
   "source": [
    "# ملاحظة: يمكن استخدام كل من \" و ' لإنشاء سلاسل نصية. وتسمح هذه المرونة بما يلي:\n",
    "msg2 = 'قالت العلوم، \"أحب بايثون!\"'\n",
    "msg3 = \"بعد ذلك، قال مترجم بايثون للعلوم نفس الشيء!\"\n",
    "msg4 = 'بالطبع، استخدمت الأمر `print(\"أحب العلوم\")`'\n",
    "\n",
    "print (msg2)\n",
    "print (msg3)\n",
    "print (msg4)"
   ]
  },
  {
   "cell_type": "code",
   "execution_count": null,
   "metadata": {},
   "outputs": [],
   "source": [
    "# input()\n",
    "msg = input()\n"
   ]
  },
  {
   "cell_type": "code",
   "execution_count": null,
   "metadata": {},
   "outputs": [],
   "source": [
    "# input() مع رسالة\n",
    "msg = input (\"ادخل الرقم المطلوب: \")\n",
    "print (msg)\n",
    "print(type(msg))\n",
    "i = int(msg) +1 # من \"90\" => 90\n",
    "print(i)"
   ]
  },
  {
   "cell_type": "code",
   "execution_count": null,
   "metadata": {},
   "outputs": [],
   "source": [
    "# التحقق من إدخال معين بدون تخزينه\n",
    "if input(\"أدخل كلمة المرور: \") == \"كلمة مروري\":\n",
    "    print (\"عمل جيد\")\n",
    "    print (\"عمل جيد 2\")\n",
    "else: \n",
    "    print (\"كلمة مرور خاطئة\")\n",
    "    print (\"كلمة مرور خاطئة 2\")\n"
   ]
  },
  {
   "cell_type": "code",
   "execution_count": null,
   "metadata": {},
   "outputs": [],
   "source": [
    "# elif و else\n",
    "a = 5\n",
    "if a == 6:\n",
    "    print (\"حالة 6\")\n",
    "elif a < 6:\n",
    "    print (\"وضع التدفق والعمليات الفعلية..\")\n",
    "    print (\"عندما ندخل elif في التدفق..\")\n",
    "else:\n",
    "    print (\"الخروج من التدفق..\")\n"
   ]
  }
 ],
 "metadata": {
  "kernelspec": {
   "display_name": "Python 3",
   "language": "python",
   "name": "python3"
  },
  "language_info": {
   "codemirror_mode": {
    "name": "ipython",
    "version": 3
   },
   "file_extension": ".py",
   "mimetype": "text/x-python",
   "name": "python",
   "nbconvert_exporter": "python",
   "pygments_lexer": "ipython3",
   "version": "3.12.7"
  }
 },
 "nbformat": 4,
 "nbformat_minor": 2
}
