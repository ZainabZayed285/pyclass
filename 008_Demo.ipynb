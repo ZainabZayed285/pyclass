{
 "cells": [
  {
   "cell_type": "markdown",
   "metadata": {},
   "source": [
    "## Just a Demo للعرض فقط\n",
    "Educational Code<br/>\n",
    "Dr. Amr Mausad @ 2024<br/>\n",
    "http://amrmausad.com<br/>\n",
    "http://youtube.com/@amrmausadx<br/>\n"
   ]
  },
  {
   "cell_type": "code",
   "execution_count": 1,
   "metadata": {},
   "outputs": [],
   "source": [
    "import tkinter as tk\n",
    "from tkinter import messagebox\n",
    "\n",
    "# Create the main window\n",
    "root = tk.Tk()\n",
    "root.title(\"Simple GUI\")\n",
    "root.geometry(\"500x500\")\n",
    "\n",
    "# Define a function for the button click\n",
    "def on_button_click():\n",
    "    # Get the text from the textbox\n",
    "    entered_text = text_box.get()\n",
    "    \n",
    "    # Check if the checkbox is selected\n",
    "    if check_var.get():\n",
    "        messagebox.showinfo(\"Info\", f\"Checkbox is selected. Text entered: {entered_text}\")\n",
    "    else:\n",
    "        messagebox.showinfo(\"Info\", f\"Checkbox is not selected. Text entered: {entered_text}\")\n",
    "\n",
    "# Create a label\n",
    "label = tk.Label(root, text=\"Enter something:\")\n",
    "label.pack(pady=5)\n",
    "\n",
    "# Create a textbox\n",
    "text_box = tk.Entry(root)\n",
    "text_box.pack(pady=5)\n",
    "\n",
    "# Create a checkbox\n",
    "check_var = tk.IntVar()\n",
    "checkbox = tk.Checkbutton(root, text=\"Check me\", variable=check_var)\n",
    "checkbox.pack(pady=5)\n",
    "\n",
    "# Create a button\n",
    "button = tk.Button(root, text=\"Click Me\", command=on_button_click)\n",
    "button.pack(pady=5)\n",
    "\n",
    "# Start the GUI event loop\n",
    "root.mainloop()"
   ]
  }
 ],
 "metadata": {
  "kernelspec": {
   "display_name": "Python 3",
   "language": "python",
   "name": "python3"
  },
  "language_info": {
   "codemirror_mode": {
    "name": "ipython",
    "version": 3
   },
   "file_extension": ".py",
   "mimetype": "text/x-python",
   "name": "python",
   "nbconvert_exporter": "python",
   "pygments_lexer": "ipython3",
   "version": "3.12.7"
  }
 },
 "nbformat": 4,
 "nbformat_minor": 2
}
