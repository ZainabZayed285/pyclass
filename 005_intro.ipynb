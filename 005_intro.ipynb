{
  "cells": [
    {
      "cell_type": "markdown",
      "metadata": {
        "id": "view-in-github",
        "colab_type": "text"
      },
      "source": [
        "<a href=\"https://colab.research.google.com/github/ZainabZayed285/pyclass/blob/main/005_intro.ipynb\" target=\"_parent\"><img src=\"https://colab.research.google.com/assets/colab-badge.svg\" alt=\"Open In Colab\"/></a>"
      ]
    },
    {
      "cell_type": "markdown",
      "id": "8cd8a3da",
      "metadata": {
        "id": "8cd8a3da"
      },
      "source": [
        "<div dir='rtl' align='right'>\n",
        "\n",
        "## مقدمة في البرمجة والتفكير النقدي وتدفق المنطق و بايثون\n",
        "Educational Code<br/>\n",
        "Dr. Amr Mausad @ 2024<br/>\n",
        "http://amrmausad.com<br/>\n",
        "http://youtube.com/@amrmausadx<br/>\n",
        "\n",
        "## 1. مقدمة في البرمجة\n",
        "البرمجة هي عملية تصميم وبناء برنامج حاسوبي قابل للتنفيذ لتحقيق مهمة محددة. تتم كتابة البرامج باستخدام لغات البرمجة التي توفر التعليمات التي يمكن للحواسيب فهمها وتنفيذها.\n",
        "\n",
        "### لماذا نتعلم البرمجة؟\n",
        "- **حل المشكلات:** تطوير القدرة على تقسيم المشكلات المعقدة إلى أجزاء أصغر وأكثر قابلية للإدارة.\n",
        "- **الأتمتة:** أتمتة المهام المتكررة، مما يجعل العمل أكثر كفاءة.\n",
        "- **فرص العمل:** مهارات البرمجة مطلوبة بشدة عبر مختلف الصناعات.\n",
        "\n",
        "### ما هي بايثون؟\n",
        "بايثون هي لغة برمجة عالية المستوى وعامة الغرض تُستخدم على نطاق واسع بسبب سهولة قراءتها وبساطتها. إنها لغة ممتازة للمبتدئين وتُستخدم في مجالات مثل تطوير الويب، علم البيانات، التعلم الآلي، وغيرها.\n",
        "</div>"
      ]
    },
    {
      "cell_type": "code",
      "execution_count": null,
      "metadata": {
        "id": "of6wUsMs4uGt",
        "outputId": "6e3a1d3d-72e6-451e-d996-ff11d5938efb"
      },
      "outputs": [
        {
          "name": "stdout",
          "output_type": "stream",
          "text": [
            "مرحبًا بالعالم!\n"
          ]
        }
      ],
      "source": [
        "# أول برنامج بايثون\n",
        "print(\"مرحبًا بالعالم!\")"
      ],
      "id": "of6wUsMs4uGt"
    },
    {
      "cell_type": "markdown",
      "metadata": {
        "id": "msiFIIew4uGw"
      },
      "source": [
        "<div dir='rtl' align='right'>\n",
        "## 2. التفكير النقدي في البرمجة\n",
        "التفكير النقدي في البرمجة يتضمن تحليل وتقييم المشكلة بطريقة منطقية والتوصل إلى حل فعال. يشمل التشكيك في الافتراضات، تحديد العلاقات، وحل المشكلات بشكل منهجي.\n",
        "\n",
        "## العناصر الرئيسية للتفكير النقدي في البرمجة:\n",
        "- **الوضوح:** التأكد من أن المشكلة وفهمك لها واضحان.\n",
        "- **الدقة:** الانتباه إلى التفاصيل؛ الأخطاء الصغيرة يمكن أن تؤدي إلى أخطاء في البرنامج.\n",
        "- **التركيز:** التركيز على ما هو مهم لحل المشكلة.\n",
        "- **المنطق:** التأكد من أن تفكيرك متسق ويتدفق بشكل منطقي.\n",
        "\n",
        "**مثال:**\n",
        "</div>"
      ],
      "id": "msiFIIew4uGw"
    },
    {
      "cell_type": "code",
      "execution_count": 1,
      "metadata": {
        "id": "dYFzqTS64uGy",
        "outputId": "451db744-c068-4163-e9b4-48d615ff6be8",
        "colab": {
          "base_uri": "https://localhost:8080/",
          "height": 176
        }
      },
      "outputs": [
        {
          "output_type": "error",
          "ename": "ZeroDivisionError",
          "evalue": "division by zero",
          "traceback": [
            "\u001b[0;31m---------------------------------------------------------------------------\u001b[0m",
            "\u001b[0;31mZeroDivisionError\u001b[0m                         Traceback (most recent call last)",
            "\u001b[0;32m<ipython-input-1-21dcae58ee40>\u001b[0m in \u001b[0;36m<cell line: 4>\u001b[0;34m()\u001b[0m\n\u001b[1;32m      2\u001b[0m \u001b[0mx\u001b[0m \u001b[0;34m=\u001b[0m \u001b[0;36m10\u001b[0m\u001b[0;34m\u001b[0m\u001b[0;34m\u001b[0m\u001b[0m\n\u001b[1;32m      3\u001b[0m \u001b[0my\u001b[0m \u001b[0;34m=\u001b[0m \u001b[0;36m0\u001b[0m\u001b[0;34m\u001b[0m\u001b[0;34m\u001b[0m\u001b[0m\n\u001b[0;32m----> 4\u001b[0;31m \u001b[0mprint\u001b[0m\u001b[0;34m(\u001b[0m\u001b[0mx\u001b[0m \u001b[0;34m/\u001b[0m \u001b[0my\u001b[0m\u001b[0;34m)\u001b[0m  \u001b[0;31m# ماذا يحدث هنا؟ لماذا؟\u001b[0m\u001b[0;34m\u001b[0m\u001b[0;34m\u001b[0m\u001b[0m\n\u001b[0m",
            "\u001b[0;31mZeroDivisionError\u001b[0m: division by zero"
          ]
        }
      ],
      "source": [
        "# تمرين التفكير النقدي: حدد المشكلة في الكود التالي\n",
        "x = 10\n",
        "y = 0\n",
        "print(x / y)  # ماذا يحدث هنا؟ لماذا؟"
      ],
      "id": "dYFzqTS64uGy"
    },
    {
      "cell_type": "markdown",
      "metadata": {
        "id": "3rTOth7V4uG0"
      },
      "source": [
        "<div dir='rtl' align='right'>\n",
        "### الحل:\n",
        "هذا الكود سيؤدي إلى ظهور خطأ `ZeroDivisionError` لأن القسمة على الصفر غير مسموحة في الرياضيات. كمبرمج، عليك أن تتوقع مثل هذه المشكلات وتتعامل معها بشكل مناسب.\n",
        "</div>"
      ],
      "id": "3rTOth7V4uG0"
    },
    {
      "cell_type": "code",
      "execution_count": 3,
      "metadata": {
        "id": "L1TlhjFO4uG1",
        "outputId": "802e8ec9-99f5-4867-9ee2-faf0e25d2671",
        "colab": {
          "base_uri": "https://localhost:8080/"
        }
      },
      "outputs": [
        {
          "output_type": "stream",
          "name": "stdout",
          "text": [
            "لا يمكن القسمة على الصفر\n"
          ]
        }
      ],
      "source": [
        "# إصلاح الخطأ باستخدام التفكير النقدي\n",
        "x = 10\n",
        "y = 0\n",
        "if y != 0:\n",
        "    print(x / y)\n",
        "else:\n",
        "    print(\"لا يمكن القسمة على الصفر\")"
      ],
      "id": "L1TlhjFO4uG1"
    },
    {
      "cell_type": "markdown",
      "metadata": {
        "id": "ajJwuTim4uG2"
      },
      "source": [
        "<div dir='rtl' align='right'>\n",
        "## 3. تدفق المنطق\n",
        "تدفق المنطق في البرمجة يشير إلى التسلسل الذي يتم تنفيذ الكود فيه. فهم هذا التدفق ضروري لكتابة برامج صحيحة وفعالة.\n",
        "\n",
        "### المفاهيم الأساسية:\n",
        "- **التنفيذ المتسلسل:** يتم تنفيذ الكود سطرًا بسطر.\n",
        "- **التنفيذ الشرطي:** يتم تنفيذ الكود بناءً على شروط (عبارات if-else).\n",
        "- **الحلقات:** يتكرر الكود حتى يتم تحقيق شرط معين (حلقات for وwhile).\n",
        "</div>"
      ],
      "id": "ajJwuTim4uG2"
    },
    {
      "cell_type": "code",
      "execution_count": 5,
      "metadata": {
        "id": "1Q-GXoKs4uG2",
        "outputId": "17c36292-3336-4f42-819d-d4686dcaf321",
        "colab": {
          "base_uri": "https://localhost:8080/"
        }
      },
      "outputs": [
        {
          "output_type": "stream",
          "name": "stdout",
          "text": [
            "35\n"
          ]
        }
      ],
      "source": [
        "# مثال: التنفيذ المتسلسل\n",
        "a = 5\n",
        "b = 30\n",
        "c = a + b\n",
        "print(c)"
      ],
      "id": "1Q-GXoKs4uG2"
    },
    {
      "cell_type": "code",
      "execution_count": 10,
      "metadata": {
        "id": "_s-q7kUh4uG3",
        "outputId": "e64d7152-ef35-4cee-d229-2b8283bb0eab",
        "colab": {
          "base_uri": "https://localhost:8080/"
        }
      },
      "outputs": [
        {
          "output_type": "stream",
          "name": "stdout",
          "text": [
            "Enter number: 600\n",
            "x أقل من أو يساوي 5\n",
            "سوف يتم طباعة هذه الجملة على اي حال\n",
            "Hi 600  5\n"
          ]
        }
      ],
      "source": [
        "# مثال: التنفيذ الشرطي\n",
        "y=input(\"Enter number: \")\n",
        "x = 5\n",
        "if x > 5:\n",
        "  print(\"x أكبر من 5\")\n",
        "\n",
        "else:\n",
        "\n",
        "    print(\"x أقل من أو يساوي 5\")\n",
        "\n",
        "print(\"سوف يتم طباعة هذه الجملة على اي حال\")\n",
        "print(f\"Hi {y}  {x}\")"
      ],
      "id": "_s-q7kUh4uG3"
    },
    {
      "cell_type": "markdown",
      "source": [
        "2-Write a Python program that takes an integer as input and checks if it is even or odd. Print \"Even\" if the number is divisible by 2, otherwise print \"Odd\"."
      ],
      "metadata": {
        "id": "8a3VmFORMljH"
      },
      "id": "8a3VmFORMljH"
    },
    {
      "cell_type": "code",
      "source": [
        "x=int(input(\"Enter Number: \"))\n",
        "if x%2==0:\n",
        "  print(str(x)+\" is Even Number\")\n",
        "else:\n",
        "  print(f\"{x} xx is Odd Number\")"
      ],
      "metadata": {
        "id": "eUEzmKwRNxs8",
        "outputId": "5832f93b-813c-470e-e722-8a821794a3b2",
        "colab": {
          "base_uri": "https://localhost:8080/"
        }
      },
      "id": "eUEzmKwRNxs8",
      "execution_count": 13,
      "outputs": [
        {
          "output_type": "stream",
          "name": "stdout",
          "text": [
            "Enter Number: 32147\n",
            "32147 xxxxxx65889 is Odd Number32147\n"
          ]
        }
      ]
    },
    {
      "cell_type": "markdown",
      "source": [
        "4-Write a Python that takes a string as input and counts the number of vowels (a, e, i, o, u) in the string. should return the count"
      ],
      "metadata": {
        "id": "JkiDvRaLQH77"
      },
      "id": "JkiDvRaLQH77"
    },
    {
      "cell_type": "code",
      "execution_count": null,
      "metadata": {
        "id": "Hbl1uTZ84uG4",
        "outputId": "602d8f08-fe08-43f8-db93-2d7925ebfbe2"
      },
      "outputs": [
        {
          "name": "stdout",
          "output_type": "stream",
          "text": [
            "حلقة for\n",
            "0\n",
            "1\n",
            "2\n",
            "3\n",
            "4\n",
            "---------------\n",
            "حلقة for\n",
            "0\n",
            "1\n",
            "2\n",
            "3\n",
            "4\n"
          ]
        }
      ],
      "source": [
        "# مثال: حلقة for\n",
        "print(\"حلقة for\")\n",
        "for i in range(5):\n",
        "    print(i)\n",
        "print(\"---------------\")\n",
        "print(\"حلقة while\")\n",
        "# مثال: حلقة while\n",
        "count = 0\n",
        "while count < 5:\n",
        "    print(count)\n",
        "    count += 1"
      ],
      "id": "Hbl1uTZ84uG4"
    },
    {
      "cell_type": "markdown",
      "metadata": {
        "id": "A7XV85ks4uG5"
      },
      "source": [
        "<div dir='rtl' align='right'>\n",
        "## 4. نهج حل المشكلات في البرمجة\n",
        "\n",
        "1. **فهم المشكلة:** ما هو المدخل؟ ما هو المخرج المتوقع؟ ما هي القيود؟\n",
        "2. **تخطيط الحل:** تقسيم المشكلة إلى خطوات.\n",
        "3. **كتابة الكود:** تنفيذ الحل خطوة بخطوة.\n",
        "4. **اختبار الحل:** تشغيل الكود بمدخلات مختلفة للتأكد من أنه يعمل بشكل صحيح.\n",
        "5. **تحسين:** تحسين الكود إذا لزم الأمر.\n",
        "\n",
        "### مثال على مشكلة:\n",
        "اكتب برنامجًا يحسب مجموع جميع الأرقام الزوجية من 1 إلى 100.\n",
        "</div>"
      ],
      "id": "A7XV85ks4uG5"
    },
    {
      "cell_type": "code",
      "execution_count": null,
      "metadata": {
        "id": "kq1iCS-n4uG6",
        "outputId": "5a45d6fe-64cd-4ccb-ecb1-cef6641e2feb"
      },
      "outputs": [
        {
          "name": "stdout",
          "output_type": "stream",
          "text": [
            "مجموع الأرقام الزوجية من 1 إلى 10: 30\n"
          ]
        }
      ],
      "source": [
        "# مجموع الأرقام الزوجية بين 1 و100\n",
        "total = 0\n",
        "for num in range(1, 101):\n",
        "    if num % 2 == 0:\n",
        "        total += num\n",
        "print(\"مجموع الأرقام الزوجية من 1 إلى 100:\", total)"
      ],
      "id": "kq1iCS-n4uG6"
    },
    {
      "cell_type": "markdown",
      "metadata": {
        "id": "ZrULYlwh4uG7"
      },
      "source": [
        "<div dir='rtl' align='right'>\n",
        "## 5. مقدمة في هياكل البيانات في بايثون\n",
        "توفر بايثون العديد من هياكل البيانات مثل القوائم، وال tuples، والمجموعات، والقواميس التي تساعد على تخزين البيانات وإدارتها بكفاءة.\n",
        "\n",
        "### القوائم\n",
        "القائمة هي مجموعة من العناصر التي يمكن أن تكون من أنواع مختلفة. القوائم قابلة للتغيير، مما يعني أنه يمكنك تعديلها.\n",
        "</div>"
      ],
      "id": "ZrULYlwh4uG7"
    },
    {
      "cell_type": "code",
      "execution_count": null,
      "metadata": {
        "id": "BkfjxwQa4uG7",
        "outputId": "eb015a46-faff-4d52-bb41-d8218499f480"
      },
      "outputs": [
        {
          "name": "stdout",
          "output_type": "stream",
          "text": [
            "[1, 2, 3, 4, 5]\n",
            "[1, 2, 3, 4, 5, 6]\n"
          ]
        }
      ],
      "source": [
        "# مثال على قائمة\n",
        "my_list = [1, 2, 3, 4, 5]\n",
        "print(my_list)\n",
        "my_list.append(6)  # إضافة عنصر إلى القائمة\n",
        "print(my_list)"
      ],
      "id": "BkfjxwQa4uG7"
    },
    {
      "cell_type": "markdown",
      "metadata": {
        "id": "CkY9ryuJ4uG8"
      },
      "source": [
        "<div dir='rtl' align='right'>\n",
        "### القواميس\n",
        "تخزن القواميس أزواج القيمة المفتاحية وتكون مفيدة لربط البيانات ذات الصلة.\n",
        "</div>"
      ],
      "id": "CkY9ryuJ4uG8"
    },
    {
      "cell_type": "code",
      "execution_count": null,
      "metadata": {
        "id": "TNvGohPu4uG8",
        "outputId": "bb9888be-b31a-4991-cf5c-364063d92fbc"
      },
      "outputs": [
        {
          "name": "stdout",
          "output_type": "stream",
          "text": [
            "مهاب\n"
          ]
        }
      ],
      "source": [
        "# مثال على القاموس\n",
        "person = {\n",
        "    \"name\": \"مهاب\",\n",
        "    \"age\": 19,\n",
        "    \"city\": \"بركة السبع\"\n",
        "}\n",
        "print(person[\"name\"])  # الوصول إلى قيمة باستخدام المفتاح\n"
      ],
      "id": "TNvGohPu4uG8"
    },
    {
      "cell_type": "markdown",
      "metadata": {
        "id": "84S10-Fd4uG9"
      },
      "source": [
        "<div dir='rtl' align='right'>\n",
        "## 6. الخلاصة\n",
        "في هذا الدفتر التفاعلي، قدمنا أساسيات البرمجة والتفكير النقدي وتدفق المنطق و بايثون. هذه هي المهارات الأساسية التي ستساعدك في رحلتك البرمجية. مع الممارسة، ستطور قدرات أقوى لحل المشكلات وتصبح متمكنًا في البرمجة باستخدام بايثون.\n",
        "\n",
        "### الخطوات التالية:\n",
        "- إقض وقت طويل مع المترجم\n",
        "- المترجم هو صديقك الصدوق\n",
        "- مارس حل المشكلات الأكثر تعقيدًا.\n",
        "- ابدأ في العمل على مشاريع صغيرة لتطبيق معرفتك في سيناريوهات العالم الحقيقي.\n",
        "- استكشف مكتبات بايثون مثل NumPy وpandas وmatplotlib لتحليل البيانات.\n",
        "</div>"
      ],
      "id": "84S10-Fd4uG9"
    }
  ],
  "metadata": {
    "kernelspec": {
      "display_name": "Python 3",
      "language": "python",
      "name": "python3"
    },
    "language_info": {
      "codemirror_mode": {
        "name": "ipython",
        "version": 3
      },
      "file_extension": ".py",
      "mimetype": "text/x-python",
      "name": "python",
      "nbconvert_exporter": "python",
      "pygments_lexer": "ipython3",
      "version": "3.12.7"
    },
    "colab": {
      "provenance": [],
      "include_colab_link": true
    }
  },
  "nbformat": 4,
  "nbformat_minor": 5
}